{
 "cells": [
  {
   "cell_type": "code",
   "execution_count": null,
   "id": "452df611",
   "metadata": {},
   "outputs": [],
   "source": [
    "## Implement a python program that counts the number of odd numbers in a given list"
   ]
  },
  {
   "cell_type": "code",
   "execution_count": 21,
   "id": "bdc20483",
   "metadata": {},
   "outputs": [
    {
     "name": "stdout",
     "output_type": "stream",
     "text": [
      "The odd numbers in the list is: 7\n"
     ]
    }
   ],
   "source": [
    "def count_odd_numbers(numbers):\n",
    "    odd_count = 0\n",
    "    for num in numbers:\n",
    "        if num % 2 != 0:\n",
    "            odd_count += 1\n",
    "    return odd_count\n",
    "\n",
    "list_numbers = [11, 22, 3,41, 33, 4, 48, 6, 17, 81, 9, 10]\n",
    "result = count_odd_numbers(list_numbers)\n",
    "\n",
    "print(f\"The odd numbers in the list is: {result}\")\n"
   ]
  },
  {
   "cell_type": "code",
   "execution_count": null,
   "id": "e9ffe864",
   "metadata": {},
   "outputs": [],
   "source": []
  }
 ],
 "metadata": {
  "kernelspec": {
   "display_name": "Python 3 (ipykernel)",
   "language": "python",
   "name": "python3"
  },
  "language_info": {
   "codemirror_mode": {
    "name": "ipython",
    "version": 3
   },
   "file_extension": ".py",
   "mimetype": "text/x-python",
   "name": "python",
   "nbconvert_exporter": "python",
   "pygments_lexer": "ipython3",
   "version": "3.11.5"
  }
 },
 "nbformat": 4,
 "nbformat_minor": 5
}
