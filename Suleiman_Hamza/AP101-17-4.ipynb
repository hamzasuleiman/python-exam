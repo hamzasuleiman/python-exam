{
 "cells": [
  {
   "cell_type": "code",
   "execution_count": 1,
   "id": "925f41bc",
   "metadata": {},
   "outputs": [],
   "source": [
    "## WHAT IS THE DISTRIBUTION OF AGES AMONG EMPLOYEES IN EACH DEPARTMENT."
   ]
  },
  {
   "cell_type": "code",
   "execution_count": null,
   "id": "4c210d48",
   "metadata": {},
   "outputs": [],
   "source": [
    "import pymysql\n",
    "\n",
    "connection = pymysql.connect(host='localhost',\n",
    "                             user='root',\n",
    "                             password='(Omattaiiii1111$)',\n",
    "                             database='employees')\n",
    "\n",
    "\n",
    "cursor = connection.cursor()\n",
    "\n",
    "sql_query = '''\n",
    "    SELECT Department,count()as count, avg(age)as Age,\n",
    "   min(age)as minimum,max(age)as maximum, FROM employees groupby Department\n",
    "\n",
    "'''\n",
    "\n",
    "cursor.execute(query)\n",
    "\n",
    "results = cursor.fetchall()\n",
    "\n",
    "conn.close()\n",
    "\n"
   ]
  },
  {
   "cell_type": "code",
   "execution_count": null,
   "id": "71032120",
   "metadata": {},
   "outputs": [],
   "source": []
  }
 ],
 "metadata": {
  "kernelspec": {
   "display_name": "Python 3 (ipykernel)",
   "language": "python",
   "name": "python3"
  },
  "language_info": {
   "codemirror_mode": {
    "name": "ipython",
    "version": 3
   },
   "file_extension": ".py",
   "mimetype": "text/x-python",
   "name": "python",
   "nbconvert_exporter": "python",
   "pygments_lexer": "ipython3",
   "version": "3.11.5"
  }
 },
 "nbformat": 4,
 "nbformat_minor": 5
}
