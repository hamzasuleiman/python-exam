{
 "cells": [
  {
   "cell_type": "code",
   "execution_count": 1,
   "id": "7a1f76c6",
   "metadata": {},
   "outputs": [],
   "source": [
    "## implement a python program that checks whether a given number is a prime number or not"
   ]
  },
  {
   "cell_type": "code",
   "execution_count": null,
   "id": "799e5ff5",
   "metadata": {},
   "outputs": [],
   "source": [
    "def is_prime(number):\n",
    "    if number <= 1:\n",
    "        return false\n",
    "    for i in range(2, int(number**0.5) + 1):\n",
    "        if number % i == 0:\n",
    "            return False\n",
    "        return True\n",
    "user_input = int(input(\"Enter an integer:\"))\n",
    "if is_prime(user_input):\n",
    "    print(f\"{user_input} is a prime number.\")\n",
    "else:\n",
    "    print(f\"{user_input}) is not a prime number.\")\n"
   ]
  }
 ],
 "metadata": {
  "kernelspec": {
   "display_name": "Python 3 (ipykernel)",
   "language": "python",
   "name": "python3"
  },
  "language_info": {
   "codemirror_mode": {
    "name": "ipython",
    "version": 3
   },
   "file_extension": ".py",
   "mimetype": "text/x-python",
   "name": "python",
   "nbconvert_exporter": "python",
   "pygments_lexer": "ipython3",
   "version": "3.11.5"
  }
 },
 "nbformat": 4,
 "nbformat_minor": 5
}
