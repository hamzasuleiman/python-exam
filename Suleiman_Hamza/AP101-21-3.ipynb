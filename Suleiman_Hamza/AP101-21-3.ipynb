{
 "cells": [
  {
   "cell_type": "code",
   "execution_count": null,
   "id": "b6e0d75d",
   "metadata": {},
   "outputs": [],
   "source": [
    "## What is the average enviroment satisfaction of employees based on their job role."
   ]
  },
  {
   "cell_type": "code",
   "execution_count": 1,
   "id": "6b7011d0",
   "metadata": {},
   "outputs": [],
   "source": [
    "import pymysql"
   ]
  },
  {
   "cell_type": "code",
   "execution_count": null,
   "id": "05178df9",
   "metadata": {},
   "outputs": [],
   "source": [
    "def ave_environment_satisfaction(self,\n",
    "                                     host=\"3360\", \n",
    "                                     user=\"root\", \n",
    "                                     password=\"(Omattaiiii1111$)\", \n",
    "                                     database=\"EMPLOYEES\"\n",
    "                                    ):\n",
    "        cursor=conn.cursor()\n",
    "        query = \"SELECT job_role, AVG(enviroment_satisfaction) as avg_satisfaction FROM employees GROUP BY job_role\"\n",
    "        cursor.execute(query)\n",
    "        results = cursor.fetchall()    \n",
    "        for row in results:\n",
    "            job_role = row[0]\n",
    "            avg_satisfaction = row[1]\n",
    "            print(f\"job Role: {job_role}, Average Enviroment satisfaction: {avg_satisfaction}\")\n",
    "            \n",
    "            cursor.close()\n",
    "            conn.close()\n",
    "    \n",
    "         "
   ]
  }
 ],
 "metadata": {
  "kernelspec": {
   "display_name": "Python 3 (ipykernel)",
   "language": "python",
   "name": "python3"
  },
  "language_info": {
   "codemirror_mode": {
    "name": "ipython",
    "version": 3
   },
   "file_extension": ".py",
   "mimetype": "text/x-python",
   "name": "python",
   "nbconvert_exporter": "python",
   "pygments_lexer": "ipython3",
   "version": "3.11.5"
  }
 },
 "nbformat": 4,
 "nbformat_minor": 5
}
