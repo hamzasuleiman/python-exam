{
 "cells": [
  {
   "cell_type": "code",
   "execution_count": null,
   "id": "13618d5f",
   "metadata": {},
   "outputs": [],
   "source": [
    "## What is the average work-life balance of employee in each department. "
   ]
  },
  {
   "cell_type": "code",
   "execution_count": 1,
   "id": "750f3afb",
   "metadata": {},
   "outputs": [
    {
     "name": "stdout",
     "output_type": "stream",
     "text": [
      "     Department  WorkLifeBalanceScore\n",
      "0         Books              2.000000\n",
      "1  Distributing              4.000000\n",
      "2            HR              2.000000\n",
      "3            IT              4.666667\n",
      "4     Packaging              3.000000\n",
      "5         Sales              3.500000\n",
      "6       Selling              3.000000\n"
     ]
    }
   ],
   "source": [
    "import pandas as pd\n",
    "\n",
    "data = {\n",
    "    'EmployeeID': [1, 2, 3, 4, 5, 6, 7, 8, 9, 10],\n",
    "    'Department': ['Sales', 'Sales', 'Books', 'Packaging', 'IT', 'IT', 'Selling', 'Distributing', 'HR', 'IT'],\n",
    "    'WorkLifeBalanceScore': [3, 4, 2, 3, 5, 4, 3, 4, 2, 5]\n",
    "}\n",
    "\n",
    "df = pd.DataFrame(data)\n",
    "avg_wlb_by_dept = df.groupby('Department')['WorkLifeBalanceScore'].mean().reset_index()\n",
    "print(avg_wlb_by_dept)"
   ]
  },
  {
   "cell_type": "code",
   "execution_count": null,
   "id": "11de0a7f",
   "metadata": {},
   "outputs": [],
   "source": []
  }
 ],
 "metadata": {
  "kernelspec": {
   "display_name": "Python 3 (ipykernel)",
   "language": "python",
   "name": "python3"
  },
  "language_info": {
   "codemirror_mode": {
    "name": "ipython",
    "version": 3
   },
   "file_extension": ".py",
   "mimetype": "text/x-python",
   "name": "python",
   "nbconvert_exporter": "python",
   "pygments_lexer": "ipython3",
   "version": "3.11.5"
  }
 },
 "nbformat": 4,
 "nbformat_minor": 5
}
