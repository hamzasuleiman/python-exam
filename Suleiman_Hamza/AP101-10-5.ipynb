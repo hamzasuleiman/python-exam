{
 "cells": [
  {
   "cell_type": "code",
   "execution_count": 3,
   "id": "a174c77d",
   "metadata": {},
   "outputs": [],
   "source": [
    "## implement an inventory system with add,delete and get all items."
   ]
  },
  {
   "cell_type": "code",
   "execution_count": 2,
   "id": "4df032bb",
   "metadata": {},
   "outputs": [
    {
     "name": "stdout",
     "output_type": "stream",
     "text": [
      "Banana not found in inventory or quantity is already 0.\n",
      "Inventory: [('Mango', 1), ('Banana', 0), ('Pineapple', 1)]\n"
     ]
    }
   ],
   "source": [
    "class Inventory:\n",
    "    def __init__(self):\n",
    "        self.items = {}\n",
    "\n",
    "    def add_item(self, item):\n",
    "        self.items[item] = self.items.get(item, 0) + 1\n",
    "\n",
    "    def delete_item(self, item):\n",
    "        if item in self.items and self.items[item] > 0:\n",
    "            self.items[item] -= 1\n",
    "        else:\n",
    "            print(f\"{item} not found in inventory or quantity is already 0.\")\n",
    "\n",
    "    def get_all_items(self):\n",
    "        return list(self.items.items())\n",
    "\n",
    "inventory_system = Inventory()\n",
    "\n",
    "inventory_system.add_item(\"Mango\")\n",
    "inventory_system.add_item(\"Banana\")\n",
    "inventory_system.add_item(\"Pineapple\")\n",
    "\n",
    "inventory_system.delete_item(\"Banana\")\n",
    "inventory_system.delete_item(\"Banana\")  \n",
    "\n",
    "# Getting all key-value pairs\n",
    "all_items = inventory_system.get_all_items()\n",
    "print(\"Inventory:\", all_items)\n",
    "\n"
   ]
  },
  {
   "cell_type": "code",
   "execution_count": null,
   "id": "2dd2f4b0",
   "metadata": {},
   "outputs": [],
   "source": []
  }
 ],
 "metadata": {
  "kernelspec": {
   "display_name": "Python 3 (ipykernel)",
   "language": "python",
   "name": "python3"
  },
  "language_info": {
   "codemirror_mode": {
    "name": "ipython",
    "version": 3
   },
   "file_extension": ".py",
   "mimetype": "text/x-python",
   "name": "python",
   "nbconvert_exporter": "python",
   "pygments_lexer": "ipython3",
   "version": "3.11.5"
  }
 },
 "nbformat": 4,
 "nbformat_minor": 5
}
